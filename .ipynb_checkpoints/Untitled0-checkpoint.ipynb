{
 "metadata": {
  "name": "",
  "signature": "sha256:0473ddddcaea489cc3ad45cbf1b7fdfff8a9673a3211f3f386f3ccc32f645be4"
 },
 "nbformat": 3,
 "nbformat_minor": 0,
 "worksheets": []
}