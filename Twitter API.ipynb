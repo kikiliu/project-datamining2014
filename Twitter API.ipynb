{
 "metadata": {
  "name": "",
  "signature": "sha256:5f7a53c74be095077ba9f9e36c91ee0e02812a179458e7cb07aaa402384a912b"
 },
 "nbformat": 3,
 "nbformat_minor": 0,
 "worksheets": [
  {
   "cells": [
    {
     "cell_type": "code",
     "collapsed": false,
     "input": [
      "import twitter\n",
      "import networkx as nx\n",
      "#from twitter_settings import CONSUMER_KEY, CONSUMER_SECRET, OAUTH_TOKEN, OAUTH_TOKEN_SECRET\n",
      "\n",
      "# Using Derek's API keys in temporary\n",
      "CONSUMER_KEY = 'CaIboXpoRgzYBGZ3woxQnQDrp'\n",
      "CONSUMER_SECRET = 'S6Xwx9m0l5yadSFL1WUNIpPqgg669P6L4XEbYxFzOsuWHyQ6VX'\n",
      "OAUTH_TOKEN = '1493177612-yAFliugNGJRHrmY8KexRnT8JsovyAuWrm3yAR8E'\n",
      "OAUTH_TOKEN_SECRET = 'v8fSiOg6W0RoreJTOlHLvPE5gduXmF4mPUvPK35J27dty'\n",
      "\n",
      "auth = twitter.oauth.OAuth(OAUTH_TOKEN, OAUTH_TOKEN_SECRET,\n",
      "                           CONSUMER_KEY, CONSUMER_SECRET)\n",
      "\n",
      "twitter_api = twitter.Twitter(auth=auth)\n",
      "\n",
      "print twitter_api"
     ],
     "language": "python",
     "metadata": {},
     "outputs": [
      {
       "output_type": "stream",
       "stream": "stdout",
       "text": [
        "<twitter.api.Twitter object at 0x106fc8d10>\n"
       ]
      }
     ],
     "prompt_number": 74
    },
    {
     "cell_type": "code",
     "collapsed": false,
     "input": [
      "import pandas as pd\n",
      "from pandas import Series, DataFrame"
     ],
     "language": "python",
     "metadata": {},
     "outputs": [],
     "prompt_number": 75
    },
    {
     "cell_type": "code",
     "collapsed": false,
     "input": [
      "ischooler_list = twitter_api.friends.ids(screen_name=\"BerkeleyISchool\", count=2500)['ids']    "
     ],
     "language": "python",
     "metadata": {},
     "outputs": [],
     "prompt_number": 76
    },
    {
     "cell_type": "code",
     "collapsed": false,
     "input": [
      "def get_timeline(user, batch_count = 200):\n",
      "    '''Recursively get 3200 most recent tweets of given user.'''\n",
      "    tl = twitter_api.statuses.user_timeline(user_id=user, count=batch_count, trim_user = 1, include_rts = 1)\n",
      "    timeline = tl\n",
      "    while True:\n",
      "        if len(tl) < batch_count:\n",
      "            return timeline\n",
      "        smallest = min(tl, key=lambda k: k['id'])['id']-1\n",
      "        tl = twitter_api.statuses.user_timeline(user_id=user, count=batch_count, trim_user = 1, include_rts = 1, max_id = smallest)\n",
      "        timeline += tl\n",
      "\n",
      "\n",
      "def get_tweetID_list(timeline):\n",
      "    '''Replace the retweeted with original tweet id. Return a list of tweet ID in long.'''\n",
      "    tweetID_list = []\n",
      "    for tweet in timeline:\n",
      "        if 'retweeted_status' in tweet.keys():\n",
      "            tweetID_list.append(tweet['retweeted_status']['id'])\n",
      "        else:\n",
      "            tweetID_list.append(tweet['id'])\n",
      "    return tweetID_list\n",
      "# test_user = \"41123\"        \n",
      "# test_tl = get_timeline(test_user)\n",
      "# len(test_tl)\n"
     ],
     "language": "python",
     "metadata": {},
     "outputs": [],
     "prompt_number": 77
    },
    {
     "cell_type": "code",
     "collapsed": false,
     "input": [
      "def get_hashtag(timeline):\n",
      "    hashtag_list = []\n",
      "    for tweet in timeline:\n",
      "        for hashtag in tweet[\"entities\"][\"hashtags\"]:\n",
      "            hashtag_list.append(hashtag[\"text\"])\n",
      "        if \"retweeted_status\" in tweet.keys():\n",
      "            for hashtag in tweet[\"retweeted_status\"][\"entities\"][\"hashtags\"]:\n",
      "                hashtag_list.append(hashtag[\"text\"])\n",
      "    return hashtag_list\n",
      "\n",
      "def get_mention(timeline):\n",
      "    mention_list = []\n",
      "    for tweet in timeline:\n",
      "        for mention in tweet[\"entities\"][\"user_mentions\"]:\n",
      "            mention_list.append(mention[\"id\"])\n",
      "        if \"retweeted_status\" in tweet.keys():\n",
      "            for mention in tweet[\"retweeted_status\"][\"entities\"][\"user_mentions\"]:\n",
      "                mention_list.append(mention[\"id\"])\n",
      "    return mention_list\n",
      "\n",
      "def get_url(timeline):\n",
      "    url_list = []\n",
      "    for tweet in timeline:\n",
      "        for url in tweet[\"entities\"][\"urls\"]:\n",
      "            url_list.append(url[\"expanded_url\"])\n",
      "        if \"retweeted_status\" in tweet.keys():\n",
      "            for url in tweet[\"retweeted_status\"][\"entities\"][\"urls\"]:\n",
      "                url_list.append(url[\"expanded_url\"])\n",
      "    return url_list\n",
      "    "
     ],
     "language": "python",
     "metadata": {},
     "outputs": [],
     "prompt_number": 78
    },
    {
     "cell_type": "code",
     "collapsed": false,
     "input": [
      "def get_friends(user):\n",
      "#     if(twitter_api.users.lookup(user_id = user)[0][\"protected\"] == False):\n",
      "    return twitter_api.friends.ids(user_id = user)['ids']\n",
      "def get_followers(user):\n",
      "    return twitter_api.followers.ids(user_id = user)['ids']\n",
      "# get_follower(ischooler_list[171])"
     ],
     "language": "python",
     "metadata": {},
     "outputs": [],
     "prompt_number": 79
    },
    {
     "cell_type": "code",
     "collapsed": false,
     "input": [
      "def load_data():\n",
      "    dic = {}\n",
      "    for user in ischooler_list[61:75]:\n",
      "        if(twitter_api.users.lookup(user_id = user)[0][\"protected\"] == False):\n",
      "            tl = get_timeline(user)\n",
      "#             print len(tl)\n",
      "            if len(tl) != 0:\n",
      "                dic[user] = [get_hashtag(tl),get_mention(tl),get_url(tl),get_tweetID_list(tl), get_friends(user), get_followers(user)]#4, 5, 6\n",
      "    return dic\n",
      "\n",
      "\n",
      "\n"
     ],
     "language": "python",
     "metadata": {},
     "outputs": [],
     "prompt_number": 273
    },
    {
     "cell_type": "code",
     "collapsed": false,
     "input": [
      "data1 = load_data()\n"
     ],
     "language": "python",
     "metadata": {},
     "outputs": [],
     "prompt_number": 274
    },
    {
     "cell_type": "code",
     "collapsed": false,
     "input": [
      "data.update(data1)"
     ],
     "language": "python",
     "metadata": {},
     "outputs": [],
     "prompt_number": 275
    },
    {
     "cell_type": "code",
     "collapsed": false,
     "input": [
      "def init_graph(data):\n",
      "    G = nx.Graph()\n",
      "    for user in data.keys():\n",
      "        G.add_node(user)\n",
      "    return G\n",
      "\n",
      "def build_match(G,data, index, weight):\n",
      "    user_list = data.keys()\n",
      "    for i in range(len(user_list)):\n",
      "        origin = set(data[user_list[i]][index])\n",
      "        for j in range(i+1,len(user_list)):\n",
      "            target = set(data[user_list[j]][index])\n",
      "            common = origin & target\n",
      "            if G.has_edge(user_list[i],user_list[j]):\n",
      "                G[user_list[i]][user_list[j]][\"weight\"] += len(common)\n",
      "            elif len(common)>0:\n",
      "                G.add_edge(user_list[i],user_list[j],weight = len(common))             \n",
      "    return\n",
      "def build_graph(data):\n",
      "    G = init_graph(data)\n",
      "#    print G.nodes()\n",
      "#    build_match(G,data,0,1) #build edge on hashtag, weight is 1\n",
      "#    build_match(G,data,1,1)  # build edge on mention, weight is 1   \n",
      "    build_match(G,data,2,1)  # build edge on url, weight is 1\n",
      "#    build_match(G,data,3,1)  # build edge on twitID, weight is 1\n",
      "#    build_match(G,data,4,1)  # build edge on friend, weight is 1\n",
      "#    build_match(G,data,5,1)  # build edge on follower, weight is 1\n",
      "    return G\n",
      "    "
     ],
     "language": "python",
     "metadata": {},
     "outputs": [],
     "prompt_number": 289
    },
    {
     "cell_type": "code",
     "collapsed": false,
     "input": [
      "import math\n",
      "G = build_graph(data)\n",
      "for u,v,dic in G.edges(data=True):\n",
      "    if dic[\"weight\"]>0:\n",
      "        print str(u)+\"\\t\"+str(v)+\"\\t\"+str(dic[\"weight\"]) # suit for mentions, url    \n",
      "#        print str(u)+\"\\t\"+str(v)+\"\\t\"+str(1)     # suit for friend / follower"
     ],
     "language": "python",
     "metadata": {},
     "outputs": [
      {
       "output_type": "stream",
       "stream": "stdout",
       "text": [
        "17445752\t1227698863\t1\n",
        "17445752\t2291925151\t1\n",
        "17445752\t18185125\t1\n",
        "17445752\t1576958474\t1\n",
        "17445752\t693963\t1\n",
        "17445752\t29939848\t1\n",
        "17445752\t76559418\t1\n",
        "18903080\t41653161\t1\n",
        "18903080\t1914664969\t1\n",
        "18903080\t2379355442\t1\n",
        "15728569\t1227698863\t9\n",
        "15728569\t2290720567\t1\n",
        "828565200\t15816153\t1\n",
        "828565200\t231197154\t1\n",
        "1914664969\t15816153\t1\n",
        "1914664969\t41653161\t2\n",
        "60996421\t29939848\t2\n",
        "60996421\t20496869\t1\n",
        "2442738392\t95551818\t1\n",
        "18185125\t1227698863\t1\n",
        "18185125\t2290720567\t2\n",
        "1227698863\t2290720567\t6\n",
        "1227698863\t20496869\t1\n",
        "1227698863\t2165789226\t1\n",
        "20817793\t2300627557\t4\n",
        "29939848\t1576958474\t1\n",
        "29939848\t2291925151\t1\n",
        "1475601108\t909005184\t7\n",
        "703727653\t1576958474\t1\n",
        "703727653\t15685575\t1\n",
        "2291925151\t1576958474\t1\n",
        "41653161\t15816153\t1\n",
        "20496869\t2165789226\t1\n"
       ]
      }
     ],
     "prompt_number": 290
    },
    {
     "cell_type": "code",
     "collapsed": false,
     "input": [
      "# Kiki: Output dataset as json/ edit distance\n",
      "# Derek: implement similarity/ Implement MCL algorithm."
     ],
     "language": "python",
     "metadata": {},
     "outputs": [],
     "prompt_number": 188
    },
    {
     "cell_type": "code",
     "collapsed": false,
     "input": [
      "# Write data into json\n",
      "\n",
      "import json\n",
      "with open('data.txt', 'w') as outfile:\n",
      "  json.dump(data, outfile)"
     ],
     "language": "python",
     "metadata": {},
     "outputs": [],
     "prompt_number": 221
    },
    {
     "cell_type": "code",
     "collapsed": false,
     "input": [
      "# Read data from json\n",
      "\n",
      "inputfile=open('data_0_60.txt', 'r')\n",
      "data = json.load(inputfile)"
     ],
     "language": "python",
     "metadata": {},
     "outputs": [],
     "prompt_number": 287
    },
    {
     "cell_type": "code",
     "collapsed": false,
     "input": [],
     "language": "python",
     "metadata": {},
     "outputs": [],
     "prompt_number": 290
    },
    {
     "cell_type": "code",
     "collapsed": false,
     "input": [],
     "language": "python",
     "metadata": {},
     "outputs": []
    }
   ],
   "metadata": {}
  }
 ]
}