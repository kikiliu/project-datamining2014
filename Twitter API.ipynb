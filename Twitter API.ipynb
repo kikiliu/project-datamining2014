{
 "metadata": {
  "name": "",
  "signature": "sha256:1550957f43631f3ed4e4b3d2a399c93444df22b5552889a45c8cf8d5b5a81afc"
 },
 "nbformat": 3,
 "nbformat_minor": 0,
 "worksheets": [
  {
   "cells": [
    {
     "cell_type": "code",
     "collapsed": false,
     "input": [
      "import twitter\n",
      "import networkx as nx\n",
      "#from twitter_settings import CONSUMER_KEY, CONSUMER_SECRET, OAUTH_TOKEN, OAUTH_TOKEN_SECRET\n",
      "\n",
      "# Using Derek's API keys in temporary\n",
      "CONSUMER_KEY = 'CaIboXpoRgzYBGZ3woxQnQDrp'\n",
      "CONSUMER_SECRET = 'S6Xwx9m0l5yadSFL1WUNIpPqgg669P6L4XEbYxFzOsuWHyQ6VX'\n",
      "OAUTH_TOKEN = '1493177612-yAFliugNGJRHrmY8KexRnT8JsovyAuWrm3yAR8E'\n",
      "OAUTH_TOKEN_SECRET = 'v8fSiOg6W0RoreJTOlHLvPE5gduXmF4mPUvPK35J27dty'\n",
      "\n",
      "auth = twitter.oauth.OAuth(OAUTH_TOKEN, OAUTH_TOKEN_SECRET,\n",
      "                           CONSUMER_KEY, CONSUMER_SECRET)\n",
      "\n",
      "twitter_api = twitter.Twitter(auth=auth)\n",
      "\n",
      "print twitter_api"
     ],
     "language": "python",
     "metadata": {},
     "outputs": [
      {
       "output_type": "stream",
       "stream": "stdout",
       "text": [
        "<twitter.api.Twitter object at 0x102914850>\n"
       ]
      }
     ],
     "prompt_number": 20
    },
    {
     "cell_type": "code",
     "collapsed": false,
     "input": [
      "import pandas as pd\n",
      "from pandas import Series, DataFrame"
     ],
     "language": "python",
     "metadata": {},
     "outputs": [],
     "prompt_number": 3
    },
    {
     "cell_type": "code",
     "collapsed": false,
     "input": [
      "ischooler_list = twitter_api.friends.ids(screen_name=\"BerkeleyISchool\", count=2500)['ids']    "
     ],
     "language": "python",
     "metadata": {},
     "outputs": [],
     "prompt_number": 4
    },
    {
     "cell_type": "code",
     "collapsed": false,
     "input": [
      "def get_timeline(user, batch_count = 200):\n",
      "    '''Recursively get 3200 most recent tweets of given user.'''\n",
      "    tl = twitter_api.statuses.user_timeline(user_id=user, count=batch_count, trim_user = 1, include_rts = 1)\n",
      "    timeline = tl\n",
      "    while True:\n",
      "        if len(tl) < batch_count:\n",
      "            return timeline\n",
      "        smallest = min(tl, key=lambda k: k['id'])['id']-1\n",
      "        tl = twitter_api.statuses.user_timeline(user_id=user, count=batch_count, trim_user = 1, include_rts = 1, max_id = smallest)\n",
      "        timeline += tl\n",
      "\n",
      "\n",
      "def get_tweetID_list(timeline):\n",
      "    '''Replace the retweeted with original tweet id. Return a list of tweet ID in long.'''\n",
      "    tweetID_list = []\n",
      "    for tweet in timeline:\n",
      "        if 'retweeted_status' in tweet.keys():\n",
      "            tweetID_list.append(tweet['retweeted_status']['id'])\n",
      "        else:\n",
      "            tweetID_list.append(tweet['id'])\n",
      "    return tweetID_list\n",
      "# test_user = \"41123\"        \n",
      "# test_tl = get_timeline(test_user)\n",
      "# len(test_tl)\n"
     ],
     "language": "python",
     "metadata": {},
     "outputs": [],
     "prompt_number": 5
    },
    {
     "cell_type": "code",
     "collapsed": false,
     "input": [
      "def get_hashtag(timeline):\n",
      "    hashtag_list = []\n",
      "    for tweet in timeline:\n",
      "        for hashtag in tweet[\"entities\"][\"hashtags\"]:\n",
      "            hashtag_list.append(hashtag[\"text\"])\n",
      "        if \"retweeted_status\" in tweet.keys():\n",
      "            for hashtag in tweet[\"retweeted_status\"][\"entities\"][\"hashtags\"]:\n",
      "                hashtag_list.append(hashtag[\"text\"])\n",
      "    return hashtag_list\n",
      "\n",
      "def get_mention(timeline):\n",
      "    mention_list = []\n",
      "    for tweet in timeline:\n",
      "        for mention in tweet[\"entities\"][\"user_mentions\"]:\n",
      "            mention_list.append(mention[\"id\"])\n",
      "        if \"retweeted_status\" in tweet.keys():\n",
      "            for mention in tweet[\"retweeted_status\"][\"entities\"][\"user_mentions\"]:\n",
      "                mention_list.append(mention[\"id\"])\n",
      "    return mention_list\n",
      "\n",
      "def get_url(timeline):\n",
      "    url_list = []\n",
      "    for tweet in timeline:\n",
      "        for url in tweet[\"entities\"][\"urls\"]:\n",
      "            url_list.append(url[\"expanded_url\"])\n",
      "        if \"retweeted_status\" in tweet.keys():\n",
      "            for url in tweet[\"retweeted_status\"][\"entities\"][\"urls\"]:\n",
      "                url_list.append(url[\"expanded_url\"])\n",
      "    return url_list\n",
      "    "
     ],
     "language": "python",
     "metadata": {},
     "outputs": [],
     "prompt_number": 12
    },
    {
     "cell_type": "code",
     "collapsed": false,
     "input": [
      "def get_friends(user):\n",
      "#     if(twitter_api.users.lookup(user_id = user)[0][\"protected\"] == False):\n",
      "    return twitter_api.friends.ids(user_id = user)['ids']\n",
      "def get_followers(user):\n",
      "    return twitter_api.followers.ids(user_id = user)['ids']\n",
      "# get_follower(ischooler_list[171])"
     ],
     "language": "python",
     "metadata": {},
     "outputs": [],
     "prompt_number": 7
    },
    {
     "cell_type": "code",
     "collapsed": false,
     "input": [
      "def load_data():\n",
      "    dic = {}\n",
      "    for user in ischooler_list[0:30]:\n",
      "        if(twitter_api.users.lookup(user_id = user)[0][\"protected\"] == False):\n",
      "            tl = get_timeline(user)\n",
      "#             print len(tl)\n",
      "            if len(tl) != 0:\n",
      "                dic[user] = [get_hashtag(tl),get_mention(tl),get_url(tl),get_tweetID_list(tl), get_friends(user), get_followers(user)]#4, 5, 6\n",
      "    return dic\n",
      "\n",
      "\n",
      "\n"
     ],
     "language": "python",
     "metadata": {},
     "outputs": [],
     "prompt_number": 71
    },
    {
     "cell_type": "code",
     "collapsed": false,
     "input": [
      "data = load_data()"
     ],
     "language": "python",
     "metadata": {},
     "outputs": [
      {
       "ename": "TwitterHTTPError",
       "evalue": "Twitter sent status 429 for URL: 1.1/friends/ids.json using parameters: (oauth_consumer_key=CaIboXpoRgzYBGZ3woxQnQDrp&oauth_nonce=16765280235025539678&oauth_signature_method=HMAC-SHA1&oauth_timestamp=1398745609&oauth_token=1493177612-yAFliugNGJRHrmY8KexRnT8JsovyAuWrm3yAR8E&oauth_version=1.0&user_id=312720541&oauth_signature=LIJ2x1FRbZLyUxRPi1y3j9H1v4c%3D)\ndetails: {\"errors\":[{\"message\":\"Rate limit exceeded\",\"code\":88}]}",
       "output_type": "pyerr",
       "traceback": [
        "\u001b[0;31m---------------------------------------------------------------------------\u001b[0m\n\u001b[0;31mTwitterHTTPError\u001b[0m                          Traceback (most recent call last)",
        "\u001b[0;32m<ipython-input-72-d9be411aa844>\u001b[0m in \u001b[0;36m<module>\u001b[0;34m()\u001b[0m\n\u001b[0;32m----> 1\u001b[0;31m \u001b[0mdata\u001b[0m \u001b[0;34m=\u001b[0m \u001b[0mload_data\u001b[0m\u001b[0;34m(\u001b[0m\u001b[0;34m)\u001b[0m\u001b[0;34m\u001b[0m\u001b[0m\n\u001b[0m",
        "\u001b[0;32m<ipython-input-71-c27b1a31b62a>\u001b[0m in \u001b[0;36mload_data\u001b[0;34m()\u001b[0m\n\u001b[1;32m      6\u001b[0m \u001b[0;31m#             print len(tl)\u001b[0m\u001b[0;34m\u001b[0m\u001b[0;34m\u001b[0m\u001b[0m\n\u001b[1;32m      7\u001b[0m             \u001b[0;32mif\u001b[0m \u001b[0mlen\u001b[0m\u001b[0;34m(\u001b[0m\u001b[0mtl\u001b[0m\u001b[0;34m)\u001b[0m \u001b[0;34m!=\u001b[0m \u001b[0;36m0\u001b[0m\u001b[0;34m:\u001b[0m\u001b[0;34m\u001b[0m\u001b[0m\n\u001b[0;32m----> 8\u001b[0;31m                 \u001b[0mdic\u001b[0m\u001b[0;34m[\u001b[0m\u001b[0muser\u001b[0m\u001b[0;34m]\u001b[0m \u001b[0;34m=\u001b[0m \u001b[0;34m[\u001b[0m\u001b[0mget_hashtag\u001b[0m\u001b[0;34m(\u001b[0m\u001b[0mtl\u001b[0m\u001b[0;34m)\u001b[0m\u001b[0;34m,\u001b[0m\u001b[0mget_mention\u001b[0m\u001b[0;34m(\u001b[0m\u001b[0mtl\u001b[0m\u001b[0;34m)\u001b[0m\u001b[0;34m,\u001b[0m\u001b[0mget_url\u001b[0m\u001b[0;34m(\u001b[0m\u001b[0mtl\u001b[0m\u001b[0;34m)\u001b[0m\u001b[0;34m,\u001b[0m\u001b[0mget_tweetID_list\u001b[0m\u001b[0;34m(\u001b[0m\u001b[0mtl\u001b[0m\u001b[0;34m)\u001b[0m\u001b[0;34m,\u001b[0m \u001b[0mget_friends\u001b[0m\u001b[0;34m(\u001b[0m\u001b[0muser\u001b[0m\u001b[0;34m)\u001b[0m\u001b[0;34m,\u001b[0m \u001b[0mget_followers\u001b[0m\u001b[0;34m(\u001b[0m\u001b[0muser\u001b[0m\u001b[0;34m)\u001b[0m\u001b[0;34m]\u001b[0m\u001b[0;31m#4, 5, 6\u001b[0m\u001b[0;34m\u001b[0m\u001b[0m\n\u001b[0m\u001b[1;32m      9\u001b[0m     \u001b[0;32mreturn\u001b[0m \u001b[0mdic\u001b[0m\u001b[0;34m\u001b[0m\u001b[0m\n\u001b[1;32m     10\u001b[0m \u001b[0;34m\u001b[0m\u001b[0m\n",
        "\u001b[0;32m<ipython-input-7-0e829b78266e>\u001b[0m in \u001b[0;36mget_friends\u001b[0;34m(user)\u001b[0m\n\u001b[1;32m      1\u001b[0m \u001b[0;32mdef\u001b[0m \u001b[0mget_friends\u001b[0m\u001b[0;34m(\u001b[0m\u001b[0muser\u001b[0m\u001b[0;34m)\u001b[0m\u001b[0;34m:\u001b[0m\u001b[0;34m\u001b[0m\u001b[0m\n\u001b[1;32m      2\u001b[0m \u001b[0;31m#     if(twitter_api.users.lookup(user_id = user)[0][\"protected\"] == False):\u001b[0m\u001b[0;34m\u001b[0m\u001b[0;34m\u001b[0m\u001b[0m\n\u001b[0;32m----> 3\u001b[0;31m     \u001b[0;32mreturn\u001b[0m \u001b[0mtwitter_api\u001b[0m\u001b[0;34m.\u001b[0m\u001b[0mfriends\u001b[0m\u001b[0;34m.\u001b[0m\u001b[0mids\u001b[0m\u001b[0;34m(\u001b[0m\u001b[0muser_id\u001b[0m \u001b[0;34m=\u001b[0m \u001b[0muser\u001b[0m\u001b[0;34m)\u001b[0m\u001b[0;34m[\u001b[0m\u001b[0;34m'ids'\u001b[0m\u001b[0;34m]\u001b[0m\u001b[0;34m\u001b[0m\u001b[0m\n\u001b[0m\u001b[1;32m      4\u001b[0m \u001b[0;32mdef\u001b[0m \u001b[0mget_followers\u001b[0m\u001b[0;34m(\u001b[0m\u001b[0muser\u001b[0m\u001b[0;34m)\u001b[0m\u001b[0;34m:\u001b[0m\u001b[0;34m\u001b[0m\u001b[0m\n\u001b[1;32m      5\u001b[0m     \u001b[0;32mreturn\u001b[0m \u001b[0mtwitter_api\u001b[0m\u001b[0;34m.\u001b[0m\u001b[0mfollowers\u001b[0m\u001b[0;34m.\u001b[0m\u001b[0mids\u001b[0m\u001b[0;34m(\u001b[0m\u001b[0muser_id\u001b[0m \u001b[0;34m=\u001b[0m \u001b[0muser\u001b[0m\u001b[0;34m)\u001b[0m\u001b[0;34m[\u001b[0m\u001b[0;34m'ids'\u001b[0m\u001b[0;34m]\u001b[0m\u001b[0;34m\u001b[0m\u001b[0m\n",
        "\u001b[0;32m/Users/DerekKuo/anaconda/lib/python2.7/site-packages/twitter/api.pyc\u001b[0m in \u001b[0;36m__call__\u001b[0;34m(self, **kwargs)\u001b[0m\n\u001b[1;32m    243\u001b[0m \u001b[0;34m\u001b[0m\u001b[0m\n\u001b[1;32m    244\u001b[0m         \u001b[0mreq\u001b[0m \u001b[0;34m=\u001b[0m \u001b[0murllib_request\u001b[0m\u001b[0;34m.\u001b[0m\u001b[0mRequest\u001b[0m\u001b[0;34m(\u001b[0m\u001b[0muriBase\u001b[0m\u001b[0;34m,\u001b[0m \u001b[0mbody\u001b[0m\u001b[0;34m,\u001b[0m \u001b[0mheaders\u001b[0m\u001b[0;34m)\u001b[0m\u001b[0;34m\u001b[0m\u001b[0m\n\u001b[0;32m--> 245\u001b[0;31m         \u001b[0;32mreturn\u001b[0m \u001b[0mself\u001b[0m\u001b[0;34m.\u001b[0m\u001b[0m_handle_response\u001b[0m\u001b[0;34m(\u001b[0m\u001b[0mreq\u001b[0m\u001b[0;34m,\u001b[0m \u001b[0muri\u001b[0m\u001b[0;34m,\u001b[0m \u001b[0marg_data\u001b[0m\u001b[0;34m,\u001b[0m \u001b[0m_timeout\u001b[0m\u001b[0;34m)\u001b[0m\u001b[0;34m\u001b[0m\u001b[0m\n\u001b[0m\u001b[1;32m    246\u001b[0m \u001b[0;34m\u001b[0m\u001b[0m\n\u001b[1;32m    247\u001b[0m     \u001b[0;32mdef\u001b[0m \u001b[0m_handle_response\u001b[0m\u001b[0;34m(\u001b[0m\u001b[0mself\u001b[0m\u001b[0;34m,\u001b[0m \u001b[0mreq\u001b[0m\u001b[0;34m,\u001b[0m \u001b[0muri\u001b[0m\u001b[0;34m,\u001b[0m \u001b[0marg_data\u001b[0m\u001b[0;34m,\u001b[0m \u001b[0m_timeout\u001b[0m\u001b[0;34m=\u001b[0m\u001b[0mNone\u001b[0m\u001b[0;34m)\u001b[0m\u001b[0;34m:\u001b[0m\u001b[0;34m\u001b[0m\u001b[0m\n",
        "\u001b[0;32m/Users/DerekKuo/anaconda/lib/python2.7/site-packages/twitter/api.pyc\u001b[0m in \u001b[0;36m_handle_response\u001b[0;34m(self, req, uri, arg_data, _timeout)\u001b[0m\n\u001b[1;32m    274\u001b[0m                 \u001b[0;32mreturn\u001b[0m \u001b[0;34m[\u001b[0m\u001b[0;34m]\u001b[0m\u001b[0;34m\u001b[0m\u001b[0m\n\u001b[1;32m    275\u001b[0m             \u001b[0;32melse\u001b[0m\u001b[0;34m:\u001b[0m\u001b[0;34m\u001b[0m\u001b[0m\n\u001b[0;32m--> 276\u001b[0;31m                 \u001b[0;32mraise\u001b[0m \u001b[0mTwitterHTTPError\u001b[0m\u001b[0;34m(\u001b[0m\u001b[0me\u001b[0m\u001b[0;34m,\u001b[0m \u001b[0muri\u001b[0m\u001b[0;34m,\u001b[0m \u001b[0mself\u001b[0m\u001b[0;34m.\u001b[0m\u001b[0mformat\u001b[0m\u001b[0;34m,\u001b[0m \u001b[0marg_data\u001b[0m\u001b[0;34m)\u001b[0m\u001b[0;34m\u001b[0m\u001b[0m\n\u001b[0m\u001b[1;32m    277\u001b[0m \u001b[0;34m\u001b[0m\u001b[0m\n\u001b[1;32m    278\u001b[0m \u001b[0;34m\u001b[0m\u001b[0m\n",
        "\u001b[0;31mTwitterHTTPError\u001b[0m: Twitter sent status 429 for URL: 1.1/friends/ids.json using parameters: (oauth_consumer_key=CaIboXpoRgzYBGZ3woxQnQDrp&oauth_nonce=16765280235025539678&oauth_signature_method=HMAC-SHA1&oauth_timestamp=1398745609&oauth_token=1493177612-yAFliugNGJRHrmY8KexRnT8JsovyAuWrm3yAR8E&oauth_version=1.0&user_id=312720541&oauth_signature=LIJ2x1FRbZLyUxRPi1y3j9H1v4c%3D)\ndetails: {\"errors\":[{\"message\":\"Rate limit exceeded\",\"code\":88}]}"
       ]
      }
     ],
     "prompt_number": 72
    },
    {
     "cell_type": "code",
     "collapsed": false,
     "input": [
      "def init_graph(data):\n",
      "    G = nx.Graph()\n",
      "    for user in data.keys():\n",
      "        G.add_node(user)\n",
      "    return G\n",
      "\n",
      "def build_match(G,data, index, weight):\n",
      "    user_list = data.keys()\n",
      "    for i in range(len(user_list)):\n",
      "        origin = set(data[user_list[i]][index])\n",
      "        for j in range(i+1,len(user_list)):\n",
      "            target = set(data[user_list[j]][index])\n",
      "            common = origin & target\n",
      "            if G.has_edge(user_list[i],user_list[j]):\n",
      "                G[user_list[i]][user_list[j]][\"weight\"] += len(common)\n",
      "            else:\n",
      "                G.add_edge(user_list[i],user_list[j],weight = len(common))\n",
      "    return\n",
      "def build_graph(data):\n",
      "    G = init_graph(data)\n",
      "#    print G.nodes()\n",
      "#    build_similar(G,data,0,1) #build edge on hashtag, weight is 1\n",
      "    build_match(G,data,1,1)  # build edge on mention, weight is 1\n",
      "    print G.edges(data=True)\n",
      "#    build_match(G,data,2,1)  # build edge on url, weight is 1\n",
      "#    build_match(G,data,3,1)  # build edge on twitID, weight is 1\n",
      "#    build_match(G,data,4,1)  # build edge on friend, weight is 1\n",
      "#    build_match(G,data,5,1)  # build edge on follower, weight is 1\n",
      "\n",
      "    "
     ],
     "language": "python",
     "metadata": {},
     "outputs": [],
     "prompt_number": 69
    },
    {
     "cell_type": "code",
     "collapsed": false,
     "input": [
      "build_graph(data)"
     ],
     "language": "python",
     "metadata": {},
     "outputs": [
      {
       "output_type": "stream",
       "stream": "stdout",
       "text": [
        "[(385661920, 14949435, {'weight': 5}), (385661920, 60846683, {'weight': 1}), (385661920, 403560317, {'weight': 7}), (14949435, 60846683, {'weight': 1}), (14949435, 403560317, {'weight': 9}), (60846683, 403560317, {'weight': 1})]\n"
       ]
      }
     ],
     "prompt_number": 70
    },
    {
     "cell_type": "code",
     "collapsed": false,
     "input": [
      "# Kiki: Output dataset as json/ edit distance\n",
      "# Derek: implement similarity/ Implement MCL algorithm."
     ],
     "language": "python",
     "metadata": {},
     "outputs": []
    }
   ],
   "metadata": {}
  }
 ]
}